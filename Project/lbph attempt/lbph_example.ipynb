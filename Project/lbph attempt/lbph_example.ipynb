{
 "cells": [
  {
   "cell_type": "code",
   "execution_count": 2,
   "metadata": {},
   "outputs": [],
   "source": [
    "#import OpenCV module\n",
    "import cv2\n",
    "#import os module for reading training data directories and paths\n",
    "import os\n",
    "#import numpy to convert python lists to numpy arrays as \n",
    "#it is needed by OpenCV face recognizers\n",
    "import numpy as np\n",
    "from pathlib import Path    \n",
    "#matplotlib for display our images\n",
    "import matplotlib.pyplot as plt\n",
    "%matplotlib inline\n",
    "from numba import autojit\n",
    "import random\n",
    "import tensorflow as tf"
   ]
  },
  {
   "cell_type": "code",
   "execution_count": 16,
   "metadata": {},
   "outputs": [],
   "source": [
    "def pooling(inputMap,poolSize=3,poolStride=None,mode='max'):\n",
    "    \"\"\"INPUTS:\n",
    "              inputMap - input array of the pooling layer\n",
    "              poolSize - X-size(equivalent to Y-size) of receptive field\n",
    "              poolStride - the stride size between successive pooling squares\n",
    "       \n",
    "       OUTPUTS:\n",
    "               outputMap - output array of the pooling layer\n",
    "               \n",
    "       Padding mode - 'edge'\n",
    "    \"\"\"\n",
    "    if poolStride==None:\n",
    "        poolStride=poolSize\n",
    "    # inputMap sizes\n",
    "    in_row,in_col = np.shape(inputMap)\n",
    "    # outputMap sizes\n",
    "    temp_map = inputMap\n",
    "    print(temp_map)\n",
    "    out_row = int(np.floor((in_row-poolSize)/poolStride)+1)\n",
    "    out_col = int(np.floor((in_col-poolSize)/poolStride)+1)\n",
    "    row_remainder,col_remainder = np.mod(in_row,poolStride),np.mod(in_col,poolStride)\n",
    "    outputMap = np.zeros((out_row,out_col))\n",
    "    outputMap1 = np.zeros((in_row,in_col))\n",
    "    # padding\n",
    "    if mode == \"max\":\n",
    "    # max pooling\n",
    "        for r_idx in range(0,out_row):\n",
    "            for c_idx in range(0,out_col):\n",
    "                startX = c_idx * poolStride\n",
    "                startY = r_idx * poolStride\n",
    "                poolField = temp_map[startY:startY + poolSize, startX:startX + poolSize]\n",
    "                poolOut = np.max(poolField)\n",
    "                outputMap[r_idx,c_idx] = poolOut\n",
    "           \n",
    "    # retrun outputMap\n",
    "    elif mode == \"lbph\":\n",
    "        for r_idx in range(0,out_row):\n",
    "            for c_idx in range(0,out_col):\n",
    "                startX = c_idx * poolStride\n",
    "                startY = r_idx * poolStride\n",
    "                poolField = temp_map[startY:startY + poolSize, startX:startX + poolSize]    \n",
    "                a = 0\n",
    "                if(poolSize%2==0):\n",
    "                    if poolSize%2==0:\n",
    "                        a = np.mean(poolField[int(in_row/2-1):int(in_row/2),int(in_col/2-1):int(in_col/2)])\n",
    "                    else:\n",
    "                        a = np.mean(poolField[int((in_row-1)/2),int(in_col/2-1):int(in_col/2)])\n",
    "                else:\n",
    "                    if poolSize%2==0:\n",
    "                        a = np.mean(poolField[int(in_row/2-1):int(in_row/2),int((in_col-1)/2)])\n",
    "                    else:\n",
    "                        a = poolField[int((in_row-1)/2),int((in_col-1)/2)]\n",
    "                length = poolSize*poolSize-(poolSize-2)*(poolSize-2)\n",
    "                print(length)\n",
    "                array = np.zeros(length)\n",
    "                print(poolField)\n",
    "                for x in range(poolSize-1):\n",
    "                    s1 = poolField[poolSize-1,x]\n",
    "                    s2 = poolField[poolSize-1-x,poolSize-1]\n",
    "                    s3 = poolField[0,poolSize-1-x]\n",
    "                    s4 = poolField[x,0]\n",
    "                    array[x] = s1\n",
    "                    array[x+poolSize-1] = s2\n",
    "                    array[x+poolSize*2-2] = s3\n",
    "                    array[x+poolSize*3-3] = s4\n",
    "                array_zeroone=np.where(array<a,0,1)\n",
    "                poolOut = 0\n",
    "                for x in range(length):\n",
    "                    poolOut += array_zeroone[x]*np.power(2,length-1-x)\n",
    "                outputMap[r_idx,c_idx] = poolOut\n",
    "    return  outputMap\n",
    "\n",
    "#test = np.array([[1,2,3,4],[5,6,7,8],[9,10,11,12],[13,14,15,16]])\n",
    "#test_result = pooling(test, 3,1, 'lbph')\n",
    "#print(test_result)"
   ]
  },
  {
   "cell_type": "code",
   "execution_count": 3,
   "metadata": {},
   "outputs": [],
   "source": [
    "@autojit\n",
    "def detect_face(img):\n",
    "    #convert the test image to gray image as opencv face detector expects gray images\n",
    "    gray = cv2.cvtColor(img, cv2.COLOR_BGR2GRAY)\n",
    "    \n",
    "    #load OpenCV face detector, I am using LBP which is fast\n",
    "    #there is also a more accurate but slow Haar classifier\n",
    "    face_cascade = cv2.CascadeClassifier('C:\\\\OpenCv\\\\opencv\\\\sources\\\\data\\\\lbpcascades\\\\lbpcascade_frontalface.xml')\n",
    "\n",
    "    #let's detect multiscale (some images may be closer to camera than others) images\n",
    "    #result is a list of faces\n",
    "    faces = face_cascade.detectMultiScale(gray, scaleFactor=1.2, minNeighbors=5);\n",
    "    \n",
    "    #if no faces are detected then return original img\n",
    "    if (len(faces) == 0):\n",
    "        return None, None\n",
    "    \n",
    "    #under the assumption that there will be only one face,\n",
    "    #extract the face area\n",
    "    (x, y, w, h) = faces[0]\n",
    "    #return only the face part of the image\n",
    "    cv2.imshow(\"Training on image...\", gray[y:y+w, x:x+h])\n",
    "    cv2.waitKey(100)\n",
    "    return gray[y:y+w, x:x+h], faces[0]"
   ]
  },
  {
   "cell_type": "code",
   "execution_count": 17,
   "metadata": {},
   "outputs": [
    {
     "name": "stdout",
     "output_type": "stream",
     "text": [
      "[[103  75  46 ... 225 225 224]\n",
      " [ 77  70  60 ... 225 225 224]\n",
      " [ 67  62  53 ... 225 225 224]\n",
      " ...\n",
      " [ 65  65  61 ... 225 223 228]\n",
      " [ 64  61  63 ... 226 226 228]\n",
      " [ 65  57  56 ... 224 225 225]]\n",
      "[[103.  41.  25. ... 225. 225. 225.]\n",
      " [ 74.  38.  25. ... 225. 225. 225.]\n",
      " [ 75.  35.  27. ... 225. 225. 225.]\n",
      " ...\n",
      " [237.  61. 181. ... 227. 227. 227.]\n",
      " [162.  54. 146. ... 227. 227. 227.]\n",
      " [ 70.  55.  95. ... 230. 228. 230.]]\n",
      "(46, 46)\n"
     ]
    }
   ],
   "source": [
    "img1 = cv2.imread(\"training-data/testdata/Alejandro_Toledo/Alejandro_Toledo_test_0002.jpg\")\n",
    "face,name = detect_face(img1)\n",
    "face_lbph = pooling(face)\n",
    "print(face_lbph)\n",
    "print(np.shape(face_lbph))"
   ]
  },
  {
   "cell_type": "code",
   "execution_count": 18,
   "metadata": {},
   "outputs": [
    {
     "data": {
      "text/plain": [
       "<matplotlib.image.AxesImage at 0x186e5989630>"
      ]
     },
     "execution_count": 18,
     "metadata": {},
     "output_type": "execute_result"
    },
    {
     "data": {
      "image/png": "[encoded data removed]",
      "text/plain": [
       "<Figure size 288x288 with 1 Axes>"
      ]
     },
     "metadata": {
      "needs_background": "light"
     },
     "output_type": "display_data"
    }
   ],
   "source": [
    "import matplotlib.pyplot as plt\n",
    "\n",
    "plt.matshow(face_lbph, cmap='gray')"
   ]
  },
  {
   "cell_type": "code",
   "execution_count": 19,
   "metadata": {},
   "outputs": [
    {
     "name": "stdout",
     "output_type": "stream",
     "text": [
      "[[103.  41.  25. ... 225. 225. 225.]\n",
      " [ 74.  38.  25. ... 225. 225. 225.]\n",
      " [ 75.  35.  27. ... 225. 225. 225.]\n",
      " ...\n",
      " [237.  61. 181. ... 227. 227. 227.]\n",
      " [162.  54. 146. ... 227. 227. 227.]\n",
      " [ 70.  55.  95. ... 230. 228. 230.]]\n"
     ]
    },
    {
     "data": {
      "text/plain": [
       "<matplotlib.image.AxesImage at 0x186e5637b00>"
      ]
     },
     "execution_count": 19,
     "metadata": {},
     "output_type": "execute_result"
    },
    {
     "data": {
      "image/png": "[encoded data removed]",
      "text/plain": [
       "<Figure size 288x288 with 1 Axes>"
      ]
     },
     "metadata": {
      "needs_background": "light"
     },
     "output_type": "display_data"
    }
   ],
   "source": [
    "face_lbph_2 = pooling(face_lbph)\n",
    "plt.matshow(face_lbph_2, cmap='gray')"
   ]
  },
  {
   "cell_type": "code",
   "execution_count": 20,
   "metadata": {},
   "outputs": [
    {
     "name": "stdout",
     "output_type": "stream",
     "text": [
      "[[103.  75. 116. 150. 161. 166. 167. 168. 158. 151. 134.  91.  91. 228.\n",
      "  226.]\n",
      " [ 67.  99. 148. 166. 174. 176. 179. 178. 172. 161. 144. 131. 113. 229.\n",
      "  234.]\n",
      " [139. 142. 163. 173. 177. 179. 179. 181. 174. 164. 145. 135. 110. 227.\n",
      "  235.]\n",
      " [129. 145. 173. 171. 169. 181. 188. 186. 183. 178. 147. 139. 100. 190.\n",
      "  230.]\n",
      " [105. 151. 166. 168. 182. 172. 188. 186. 186. 172. 175. 149. 134.  80.\n",
      "  230.]\n",
      " [ 74. 153. 167. 183. 186. 180. 166. 176. 168. 159. 164. 155. 152.  59.\n",
      "  229.]\n",
      " [ 82. 156. 177. 169. 167. 166. 166. 177. 173. 150. 160. 162. 153. 168.\n",
      "  232.]\n",
      " [159. 158. 172. 185. 180. 181. 177. 184. 181. 164. 178. 177. 164. 232.\n",
      "  240.]\n",
      " [176. 161. 176. 199. 191. 182. 179. 190. 191. 168. 187. 187. 167. 229.\n",
      "  228.]\n",
      " [167. 160. 170. 184. 180. 172. 169. 190. 181. 165. 157. 165. 162. 228.\n",
      "  228.]\n",
      " [172. 162. 167. 171. 177. 180. 186. 180. 181. 169. 153. 160. 158. 232.\n",
      "  228.]\n",
      " [178. 160. 172. 184. 172. 205. 240. 239. 234. 232. 163. 167. 217. 232.\n",
      "  228.]\n",
      " [ 94. 156. 172. 186. 179. 178. 193. 185. 182. 170. 163. 167. 229. 234.\n",
      "  228.]\n",
      " [211. 234. 148. 171. 184. 181. 179. 180. 179. 164. 160. 228. 235. 233.\n",
      "  228.]\n",
      " [239. 240. 174. 146. 168. 176. 183. 180. 178. 167. 165. 238. 235. 229.\n",
      "  228.]]\n"
     ]
    },
    {
     "data": {
      "text/plain": [
       "<matplotlib.image.AxesImage at 0x186e49de3c8>"
      ]
     },
     "execution_count": 20,
     "metadata": {},
     "output_type": "execute_result"
    },
    {
     "data": {
      "image/png": "[encoded data removed]",
      "text/plain": [
       "<Figure size 288x288 with 1 Axes>"
      ]
     },
     "metadata": {
      "needs_background": "light"
     },
     "output_type": "display_data"
    }
   ],
   "source": [
    "face_lbph_3 = pooling(face_lbph_2)\n",
    "plt.matshow(face_lbph_3, cmap='gray')"
   ]
  }
 ],
 "metadata": {
  "kernelspec": {
   "display_name": "Python 3",
   "language": "python",
   "name": "python3"
  },
  "language_info": {
   "codemirror_mode": {
    "name": "ipython",
    "version": 3
   },
   "file_extension": ".py",
   "mimetype": "text/x-python",
   "name": "python",
   "nbconvert_exporter": "python",
   "pygments_lexer": "ipython3",
   "version": "3.7.1"
  }
 },
 "nbformat": 4,
 "nbformat_minor": 2
}
